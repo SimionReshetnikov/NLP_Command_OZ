{
 "cells": [
  {
   "cell_type": "code",
   "execution_count": 1,
   "id": "f3c19518-2b1f-4d25-b881-61847802bb8b",
   "metadata": {},
   "outputs": [
    {
     "name": "stdout",
     "output_type": "stream",
     "text": [
      "Note: you may need to restart the kernel to use updated packages.\n"
     ]
    }
   ],
   "source": [
    "%pip install open-webui -q"
   ]
  },
  {
   "cell_type": "code",
   "execution_count": 2,
   "id": "f9721012-e9be-42f4-8aac-54f42cd949f4",
   "metadata": {},
   "outputs": [
    {
     "data": {
      "text/html": [
       "\n",
       "        <iframe\n",
       "            width=\"100%\"\n",
       "            height=\"500px\"\n",
       "            src=\"http://localhost:8080\"\n",
       "            frameborder=\"0\"\n",
       "            allowfullscreen\n",
       "            \n",
       "        ></iframe>\n",
       "        "
      ],
      "text/plain": [
       "<IPython.lib.display.IFrame at 0x226c2f0f810>"
      ]
     },
     "metadata": {},
     "output_type": "display_data"
    },
    {
     "name": "stdout",
     "output_type": "stream",
     "text": [
      "Loading WEBUI_SECRET_KEY from file, not provided as an environment variable.\n",
      "Loading WEBUI_SECRET_KEY from C:\\Users\\root\\ML\\.webui_secret_key\n",
      "F:\\anaconda3\\envs\\bot\\Lib\\site-packages\\open_webui\n",
      "F:\\anaconda3\\envs\\bot\\Lib\\site-packages\n",
      "F:\\anaconda3\\envs\\bot\\Lib\n",
      "\n",
      " ██████╗ ██████╗ ███████╗███╗   ██╗    ██╗    ██╗███████╗██████╗ ██╗   ██╗██╗\n",
      "██╔═══██╗██╔══██╗██╔════╝████╗  ██║    ██║    ██║██╔════╝██╔══██╗██║   ██║██║\n",
      "██║   ██║██████╔╝█████╗  ██╔██╗ ██║    ██║ █╗ ██║█████╗  ██████╔╝██║   ██║██║\n",
      "██║   ██║██╔═══╝ ██╔══╝  ██║╚██╗██║    ██║███╗██║██╔══╝  ██╔══██╗██║   ██║██║\n",
      "╚██████╔╝██║     ███████╗██║ ╚████║    ╚███╔███╔╝███████╗██████╔╝╚██████╔╝██║\n",
      " ╚═════╝ ╚═╝     ╚══════╝╚═╝  ╚═══╝     ╚══╝╚══╝ ╚══════╝╚═════╝  ╚═════╝ ╚═╝\n",
      "\n",
      "\n",
      "v0.5.20 - building the best open-source AI user interface.\n",
      "\n",
      "https://github.com/open-webui/open-webui\n",
      "\n",
      "\u001b[32m2025-03-27 23:02:16.869\u001b[0m | \u001b[1mINFO    \u001b[0m | \u001b[36mopen_webui.utils.logger\u001b[0m:\u001b[36mstart_logger\u001b[0m:\u001b[36m140\u001b[0m - \u001b[1mGLOBAL_LOG_LEVEL: INFO\u001b[0m - {}\n"
     ]
    }
   ],
   "source": [
    "import subprocess\n",
    "import time\n",
    "from IPython.display import IFrame\n",
    "# запускаем сервис\n",
    "process = subprocess.Popen(\"set PYTHONIOENCODING=utf8 && open-webui serve\", shell=True, encoding='utf-8', stdout=subprocess.PIPE, text=True)\n",
    "time.sleep(10)\n",
    "display(IFrame(src=\"http://localhost:8080\", width=\"100%\", height=\"500px\"))\n",
    "# Вывод логов в режиме реального времени\n",
    "for line in process.stdout:\n",
    "    print(line, end='')"
   ]
  },
  {
   "cell_type": "code",
   "execution_count": null,
   "id": "da23ef4a-2257-45dc-88c9-b7ebb33cca3c",
   "metadata": {},
   "outputs": [],
   "source": []
  }
 ],
 "metadata": {
  "kernelspec": {
   "display_name": "Python 3 (ipykernel)",
   "language": "python",
   "name": "python3"
  },
  "language_info": {
   "codemirror_mode": {
    "name": "ipython",
    "version": 3
   },
   "file_extension": ".py",
   "mimetype": "text/x-python",
   "name": "python",
   "nbconvert_exporter": "python",
   "pygments_lexer": "ipython3",
   "version": "3.11.11"
  }
 },
 "nbformat": 4,
 "nbformat_minor": 5
}
